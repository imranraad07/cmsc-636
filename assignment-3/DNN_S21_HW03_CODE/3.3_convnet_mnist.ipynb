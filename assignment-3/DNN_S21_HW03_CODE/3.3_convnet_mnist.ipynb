{
 "cells": [
  {
   "cell_type": "markdown",
   "metadata": {},
   "source": [
    "# CMSC 636, HW3: ConvNet on MNIST dataset"
   ]
  },
  {
   "cell_type": "code",
   "execution_count": 1,
   "metadata": {},
   "outputs": [
    {
     "name": "stdout",
     "output_type": "stream",
     "text": [
      "WARNING:tensorflow:From /home/imram3/Desktop/cmsc-sping-2021/cmsc-636/assignment-3/DNN_S21_HW03_CODE/venv/lib/python3.8/site-packages/tensorflow/python/compat/v2_compat.py:96: disable_resource_variables (from tensorflow.python.ops.variable_scope) is deprecated and will be removed in a future version.\n",
      "Instructions for updating:\n",
      "non-resource variables are not supported in the long term\n"
     ]
    }
   ],
   "source": [
    "import tensorflow.compat.v1 as tf\n",
    "tf.disable_v2_behavior()\n",
    "tf.enable_eager_execution()\n",
    "import numpy as np\n",
    "import matplotlib.pyplot as plt\n",
    "import matplotlib.image as mpimg\n",
    "from types import SimpleNamespace\n",
    "%matplotlib inline"
   ]
  },
  {
   "cell_type": "markdown",
   "metadata": {},
   "source": [
    "## Load MNIST"
   ]
  },
  {
   "cell_type": "code",
   "execution_count": 2,
   "metadata": {},
   "outputs": [],
   "source": [
    "# load mnist dataset with labels encoded as one-hot vectors\n",
    "class Dataset():\n",
    "    def __init__(self, data):\n",
    "        self.data = data\n",
    "        self.index = 0\n",
    "        self.epochs = 0\n",
    "\n",
    "    def shuffle(self):\n",
    "        perm = np.arange(self.data[0].shape[0])\n",
    "        np.random.shuffle(perm)\n",
    "        self.data = tuple(datai[perm] for datai in self.data)\n",
    "    \n",
    "    def next_batch(self, batch_size):\n",
    "        start = self.index\n",
    "        end = self.index + batch_size\n",
    "        if end > self.data[0].shape[0]:\n",
    "            self.epochs += 1\n",
    "            self.shuffle()\n",
    "            self.index, start = 0, 0\n",
    "            end = batch_size\n",
    "        self.index = end\n",
    "        return tuple(datai[start:end, ...] for datai in self.data)\n",
    "            \n",
    "def load_mnist():\n",
    "    def preprocess(data, labels, num_classes):\n",
    "        # flatten images\n",
    "        data = data.astype(np.float32)/255.0\n",
    "        data = np.reshape(data, [data.shape[0], -1])\n",
    "        # one hot encoding\n",
    "        num_labels = labels.shape[0]\n",
    "        index_offset = np.arange(num_labels) * num_classes\n",
    "        labels_one_hot = np.zeros((num_labels, num_classes))\n",
    "        labels_one_hot.flat[index_offset + labels.ravel()] = 1\n",
    "        return data, labels_one_hot\n",
    "    train, test = tf.keras.datasets.mnist.load_data()\n",
    "    train = preprocess(train[0], train[1], 10)\n",
    "    test = preprocess(test[0], test[1], 10)\n",
    "    return SimpleNamespace(\n",
    "        train=Dataset(train), \n",
    "        test=Dataset(test))\n",
    "mnist = load_mnist()"
   ]
  },
  {
   "cell_type": "code",
   "execution_count": 3,
   "metadata": {},
   "outputs": [],
   "source": [
    "# Classes from previous exercises\n",
    "class DenseLayer(object):\n",
    "    def __init__(self, n_inputs, n_units, afunc=None, w_stddev=0.01):\n",
    "        '''Define the parameters of the layer'''\n",
    "        self.w = tf.Variable(\n",
    "            tf.random.truncated_normal([n_inputs, n_units], stddev=w_stddev),\n",
    "            name='w')\n",
    "        self.b = tf.Variable(\n",
    "            tf.zeros([n_units]), \n",
    "            name='b')\n",
    "        self.afunc = afunc\n",
    "    \n",
    "    def trainable_variables(self):\n",
    "        '''return trainable variables'''\n",
    "        return [self.w, self.b]\n",
    "\n",
    "    def __call__(self, x):\n",
    "        '''Layer function definition'''\n",
    "        y = tf.matmul(x, self.w) + self.b\n",
    "        if self.afunc is not None:\n",
    "            y = self.afunc(y)\n",
    "        return y\n",
    "\n",
    "class LogisticReg(object):\n",
    "    def __init__(self, layers):\n",
    "        self.layers = layers\n",
    "    \n",
    "    def trainable_variables(self):\n",
    "        return [var for layer in self.layers \n",
    "                for var in layer.trainable_variables()]\n",
    "        \n",
    "    def __call__(self, x, logits=False):\n",
    "        '''call layers and apply softmax if logits=False'''\n",
    "        # compute layers\n",
    "        output = x\n",
    "        for layer in self.layers:\n",
    "            output = layer(output)\n",
    "        # apply softmax if logits is false\n",
    "        # use logits=True for training\n",
    "        if not logits:  \n",
    "            output = tf.nn.softmax(output)\n",
    "        return output"
   ]
  },
  {
   "cell_type": "markdown",
   "metadata": {},
   "source": [
    "## Model definition"
   ]
  },
  {
   "cell_type": "code",
   "execution_count": 4,
   "metadata": {},
   "outputs": [],
   "source": [
    "sess = tf.InteractiveSession()"
   ]
  },
  {
   "cell_type": "code",
   "execution_count": 5,
   "metadata": {},
   "outputs": [],
   "source": [
    "input_size= [28, 28]\n",
    "\n",
    "n_outputs= 10\n",
    "n_input_maps= 32 \n",
    "n_maps = 64\n",
    "\n",
    "filter_size = [5, 5]\n",
    "pool_size =   [2, 2]\n",
    "\n",
    "n_hidden = 256"
   ]
  },
  {
   "cell_type": "code",
   "execution_count": 6,
   "metadata": {},
   "outputs": [],
   "source": [
    "class ConvLayer(object):\n",
    "    def __init__(self, input_maps, output_maps, filter_size, \n",
    "                 pool_size, afunc=None):\n",
    "        '''\n",
    "        Convolution layer with VALID padding and pooling layer.\n",
    "        \n",
    "        input_maps: number of input maps.\n",
    "        output_maps: number of output maps.\n",
    "        filter_size: list/tuple with the size of the kernel filter.\n",
    "        pool_size: list/tuple with the size of the pool filter.\n",
    "        afunc: activation function.\n",
    "        '''\n",
    "        self.w = tf.Variable(tf.random.truncated_normal(\n",
    "            shape=[filter_size[0], filter_size[1], \n",
    "                   input_maps, output_maps],\n",
    "            stddev=0.1), name='w')\n",
    "        self.b = tf.Variable(tf.random.truncated_normal(\n",
    "            shape=[output_maps], \n",
    "            stddev=0.1), name= 'b')\n",
    "        self.pool_size = pool_size\n",
    "        self.afunc = afunc\n",
    "    \n",
    "    def trainable_variables(self):\n",
    "        '''return trainable variables'''\n",
    "        return [self.w, self.b]\n",
    "    \n",
    "    def __call__(self, x):\n",
    "        out = tf.nn.conv2d(\n",
    "            x, self.w, strides=[1, 1, 1, 1], \n",
    "            padding='VALID')\n",
    "        out = out + self.b\n",
    "        if self.afunc is not None:\n",
    "            out = self.afunc(out)\n",
    "        out = tf.nn.max_pool(\n",
    "            out, ksize=[1, self.pool_size[0], self.pool_size[1], 1],\n",
    "            strides=[1, self.pool_size[0], self.pool_size[1], 1], \n",
    "            padding='VALID')\n",
    "        return out\n",
    "\n",
    "class ReshapeLayer(object):\n",
    "    def __init__(self, output_shape):\n",
    "        self.output_shape = output_shape\n",
    "    \n",
    "    def trainable_variables(self):\n",
    "        '''return trainable variables'''\n",
    "        return []\n",
    "    \n",
    "    def __call__(self, x):\n",
    "        return tf.reshape(x, self.output_shape)\n",
    "\n",
    "\n",
    "# define model\n",
    "model = LogisticReg([\n",
    "    ConvLayer(1, n_input_maps, filter_size, pool_size, afunc=tf.nn.relu),\n",
    "    ConvLayer(n_input_maps, n_maps, filter_size, pool_size, afunc=tf.nn.relu),\n",
    "    ReshapeLayer([-1, 4*4*64]),\n",
    "    DenseLayer(4*4*n_maps, n_hidden, afunc=tf.nn.relu),\n",
    "    DenseLayer(n_hidden, n_outputs)\n",
    "]) \n",
    "\n",
    "weights = []\n",
    "for layer in model.layers:\n",
    "    if type(layer) != ReshapeLayer:\n",
    "        weights.append(layer.w)\n",
    "\n",
    "optimizer = tf.keras.optimizers.Adam(1e-3)  \n"
   ]
  },
  {
   "cell_type": "markdown",
   "metadata": {},
   "source": [
    "## Training"
   ]
  },
  {
   "cell_type": "code",
   "execution_count": 7,
   "metadata": {},
   "outputs": [],
   "source": [
    "def accuracy_train(predictions, labels):\n",
    "    if n_outputs == 1:\n",
    "        return (100.0 * np.sum(np.greater(predictions, 0.5) == np.greater(labels, 0.5))// predictions.shape[0])\n",
    "    else:\n",
    "        return (100.0 * np.sum(np.argmax(predictions, 1) == np.argmax(labels, 1))// predictions.shape[0])\n",
    "    \n",
    "def accuracy_test (predictions, labels):\n",
    "    if n_outputs == 1:\n",
    "        return (100.0 * np.sum(np.greater(predictions, 0.5) == np.greater(labels, 0.5))// predictions.shape[0].value)\n",
    "    else:\n",
    "        return (100.0 * np.sum(np.argmax(predictions, 1) == np.argmax(labels, 1))// predictions.shape[0].value)"
   ]
  },
  {
   "cell_type": "code",
   "execution_count": 8,
   "metadata": {},
   "outputs": [],
   "source": [
    "def loss_fn(logits, labels, weights):\n",
    "    '''compute softmax cross entory'''\n",
    "    error = tf.reduce_mean(tf.nn.softmax_cross_entropy_with_logits(\n",
    "        logits=logits, \n",
    "        labels=labels))\n",
    "    reg = 0\n",
    "    for w in weights:\n",
    "        reg = reg + tf.nn.l2_loss(w)\n",
    "    return error + 0.0001*reg\n",
    "\n",
    "def train_step(labels, inputs):\n",
    "    with tf.GradientTape() as tape:\n",
    "        logits = model(inputs, logits=True)\n",
    "        loss = loss_fn(logits, labels, weights)\n",
    "    gradients = tape.gradient(loss, model.trainable_variables())\n",
    "    optimizer.apply_gradients(zip(gradients, model.trainable_variables()))\n",
    "    \n",
    "    return loss.numpy(), model(inputs).numpy()\n"
   ]
  },
  {
   "cell_type": "code",
   "execution_count": 9,
   "metadata": {},
   "outputs": [],
   "source": [
    "num_steps = 5000     # play with different values\n",
    "summary_freq = 200\n",
    "n_test_log = 10\n",
    "\n",
    "batch_size = 100 # play with different values for batch size"
   ]
  },
  {
   "cell_type": "code",
   "execution_count": 10,
   "metadata": {},
   "outputs": [
    {
     "name": "stdout",
     "output_type": "stream",
     "text": [
      "WARNING:tensorflow:From /home/imram3/Desktop/cmsc-sping-2021/cmsc-636/assignment-3/DNN_S21_HW03_CODE/venv/lib/python3.8/site-packages/tensorflow/python/util/dispatch.py:201: softmax_cross_entropy_with_logits (from tensorflow.python.ops.nn_ops) is deprecated and will be removed in a future version.\n",
      "Instructions for updating:\n",
      "\n",
      "Future major versions of TensorFlow will allow gradients to flow\n",
      "into the labels input on backprop by default.\n",
      "\n",
      "See `tf.nn.softmax_cross_entropy_with_logits_v2`.\n",
      "\n",
      "0 , train: 0.08  | test: 11.0  | loss: 0.011625226736068726\n",
      "200 , train: 88.965  | test: 94.7  | loss: 0.45506065268069507\n",
      "400 , train: 96.81  | test: 95.5  | loss: 0.14488800782710315\n",
      "600 , train: 97.62  | test: 97.2  | loss: 0.11993420107290148\n",
      "800 , train: 98.365  | test: 97.9  | loss: 0.09006494328379631\n",
      "1000 , train: 98.76  | test: 99.1  | loss: 0.07855913082137704\n",
      "1200 , train: 98.79  | test: 99.1  | loss: 0.07530473669990898\n",
      "1400 , train: 99.125  | test: 99.9  | loss: 0.06421842817217112\n",
      "1600 , train: 99.18  | test: 99.5  | loss: 0.06354616985656321\n",
      "1800 , train: 99.29  | test: 99.2  | loss: 0.059322017161175605\n",
      "2000 , train: 99.34  | test: 98.7  | loss: 0.05745245634578169\n",
      "2200 , train: 99.425  | test: 98.9  | loss: 0.054769177231937645\n",
      "2400 , train: 99.355  | test: 98.2  | loss: 0.056821749452501534\n",
      "2600 , train: 99.545  | test: 99.1  | loss: 0.05027113923802972\n",
      "2800 , train: 99.525  | test: 99.3  | loss: 0.04872560785152018\n",
      "3000 , train: 99.415  | test: 99.1  | loss: 0.05214962136000395\n",
      "3200 , train: 99.68  | test: 99.0  | loss: 0.04295357384718954\n",
      "3400 , train: 99.645  | test: 99.2  | loss: 0.04516000875271857\n",
      "3600 , train: 99.605  | test: 99.2  | loss: 0.04674874356947839\n",
      "3800 , train: 99.815  | test: 99.3  | loss: 0.03966311291791499\n",
      "4000 , train: 99.75  | test: 99.0  | loss: 0.04198777704499662\n",
      "4200 , train: 99.665  | test: 98.8  | loss: 0.044599304841831326\n",
      "4400 , train: 99.85  | test: 99.3  | loss: 0.03655224389396608\n",
      "4600 , train: 99.83  | test: 99.0  | loss: 0.038039500657469034\n",
      "4800 , train: 99.71  | test: 99.1  | loss: 0.045011174520477655\n"
     ]
    }
   ],
   "source": [
    "mean_loss= 0\n",
    "train_accuracy= 0\n",
    "\n",
    "n_epoch = []\n",
    "n_train_accuracy = []\n",
    "n_test_accuracy = []\n",
    "\n",
    "\n",
    "for step in range(num_steps):\n",
    "    batch_X, batch_y= mnist.train.next_batch(batch_size)    \n",
    "    batch_X= np.reshape(batch_X, [-1,28,28,1])\n",
    "    l, train_pred = train_step(batch_y, batch_X)\n",
    "    train_accuracy += accuracy_train(train_pred, batch_y)\n",
    "    mean_loss += l\n",
    "\n",
    "    if step%summary_freq == 0:\n",
    "        train_accuracy= train_accuracy/summary_freq\n",
    "        \n",
    "        test_accuracy= 0\n",
    "        for i in range(n_test_log):\n",
    "            batch_X_test, batch_y_test= mnist.test.next_batch(batch_size) \n",
    "            batch_X_test = np.reshape(batch_X_test, [-1,28,28,1]) \n",
    "            pred = model(batch_X_test)\n",
    "            test_accuracy += accuracy_test(pred, batch_y_test)\n",
    "        test_accuracy= test_accuracy/n_test_log\n",
    "        \n",
    "        n_epoch.append(step)\n",
    "        n_train_accuracy.append(train_accuracy)\n",
    "        n_test_accuracy.append(test_accuracy)\n",
    "\n",
    "        print(step, ', train:',train_accuracy,' | test:', test_accuracy, ' | loss:', mean_loss/summary_freq)\n",
    "\n",
    "        mean_loss= 0\n",
    "        train_accuracy= 0"
   ]
  },
  {
   "cell_type": "markdown",
   "metadata": {},
   "source": [
    "## Test the trained model on the testing dataset"
   ]
  },
  {
   "cell_type": "code",
   "execution_count": 11,
   "metadata": {},
   "outputs": [
    {
     "name": "stdout",
     "output_type": "stream",
     "text": [
      "Number: [[0. 0. 0. 0. 1. 0. 0. 0. 0. 0.]]\n",
      "Prediction by the model: 4\n"
     ]
    },
    {
     "data": {
      "text/plain": [
       "<matplotlib.image.AxesImage at 0x7fbcb6cd1220>"
      ]
     },
     "execution_count": 11,
     "metadata": {},
     "output_type": "execute_result"
    },
    {
     "data": {
      "image/png": "[encoded data removed]",
      "text/plain": [
       "<Figure size 432x288 with 1 Axes>"
      ]
     },
     "metadata": {
      "needs_background": "light"
     },
     "output_type": "display_data"
    }
   ],
   "source": [
    "test_sample_x, test_sample_y= mnist.test.next_batch(1) \n",
    "\n",
    "pred = model(np.reshape(test_sample_x, [-1,28,28,1]))\n",
    "print('Number:', test_sample_y)\n",
    "print('Prediction by the model:', np.argmax(pred))\n",
    "\n",
    "plt.imshow(np.reshape(test_sample_x, [28,28]))"
   ]
  },
  {
   "cell_type": "code",
   "execution_count": 12,
   "metadata": {},
   "outputs": [
    {
     "data": {
      "text/plain": [
       "<matplotlib.legend.Legend at 0x7fbcb6c27790>"
      ]
     },
     "execution_count": 12,
     "metadata": {},
     "output_type": "execute_result"
    },
    {
     "data": {
      "image/png": "[encoded data removed]",
      "text/plain": [
       "<Figure size 432x288 with 1 Axes>"
      ]
     },
     "metadata": {
      "needs_background": "light"
     },
     "output_type": "display_data"
    }
   ],
   "source": [
    "plt.plot(n_epoch, n_train_accuracy, label=\"Training Accuracy\")\n",
    "plt.plot(n_epoch, n_test_accuracy, label=\"Testing Accuracy\")\n",
    "plt.legend()\n"
   ]
  },
  {
   "cell_type": "code",
   "execution_count": null,
   "metadata": {},
   "outputs": [],
   "source": []
  }
 ],
 "metadata": {
  "kernelspec": {
   "display_name": "Python 3",
   "language": "python",
   "name": "python3"
  },
  "language_info": {
   "codemirror_mode": {
    "name": "ipython",
    "version": 3
   },
   "file_extension": ".py",
   "mimetype": "text/x-python",
   "name": "python",
   "nbconvert_exporter": "python",
   "pygments_lexer": "ipython3",
   "version": "3.8.5"
  },
  "toc": {
   "colors": {
    "hover_highlight": "#DAA520",
    "navigate_num": "#000000",
    "navigate_text": "#333333",
    "running_highlight": "#FF0000",
    "selected_highlight": "#FFD700",
    "sidebar_border": "#EEEEEE",
    "wrapper_background": "#FFFFFF"
   },
   "moveMenuLeft": true,
   "nav_menu": {
    "height": "102px",
    "width": "252px"
   },
   "navigate_menu": true,
   "number_sections": true,
   "sideBar": true,
   "threshold": 4,
   "toc_cell": false,
   "toc_section_display": "block",
   "toc_window_display": false,
   "widenNotebook": false
  }
 },
 "nbformat": 4,
 "nbformat_minor": 2
}
