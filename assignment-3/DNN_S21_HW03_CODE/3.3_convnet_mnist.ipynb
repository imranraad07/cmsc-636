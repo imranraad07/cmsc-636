{
 "cells": [
  {
   "cell_type": "markdown",
   "metadata": {},
   "source": [
    "# CMSC 636, HW3: ConvNet on MNIST dataset"
   ]
  },
  {
   "cell_type": "code",
   "execution_count": 1,
   "metadata": {},
   "outputs": [
    {
     "name": "stdout",
     "output_type": "stream",
     "text": [
      "WARNING:tensorflow:From /home/imram3/Desktop/cmsc-sping-2021/cmsc-636/assignment-3/DNN_S21_HW03_CODE/venv/lib/python3.8/site-packages/tensorflow/python/compat/v2_compat.py:96: disable_resource_variables (from tensorflow.python.ops.variable_scope) is deprecated and will be removed in a future version.\n",
      "Instructions for updating:\n",
      "non-resource variables are not supported in the long term\n"
     ]
    }
   ],
   "source": [
    "import tensorflow.compat.v1 as tf\n",
    "tf.disable_v2_behavior()\n",
    "tf.enable_eager_execution()\n",
    "import numpy as np\n",
    "import matplotlib.pyplot as plt\n",
    "import matplotlib.image as mpimg\n",
    "from types import SimpleNamespace\n",
    "%matplotlib inline"
   ]
  },
  {
   "cell_type": "markdown",
   "metadata": {},
   "source": [
    "## Load MNIST"
   ]
  },
  {
   "cell_type": "code",
   "execution_count": 2,
   "metadata": {},
   "outputs": [],
   "source": [
    "# load mnist dataset with labels encoded as one-hot vectors\n",
    "class Dataset():\n",
    "    def __init__(self, data):\n",
    "        self.data = data\n",
    "        self.index = 0\n",
    "        self.epochs = 0\n",
    "\n",
    "    def shuffle(self):\n",
    "        perm = np.arange(self.data[0].shape[0])\n",
    "        np.random.shuffle(perm)\n",
    "        self.data = tuple(datai[perm] for datai in self.data)\n",
    "    \n",
    "    def next_batch(self, batch_size):\n",
    "        start = self.index\n",
    "        end = self.index + batch_size\n",
    "        if end > self.data[0].shape[0]:\n",
    "            self.epochs += 1\n",
    "            self.shuffle()\n",
    "            self.index, start = 0, 0\n",
    "            end = batch_size\n",
    "        self.index = end\n",
    "        return tuple(datai[start:end, ...] for datai in self.data)\n",
    "            \n",
    "def load_mnist():\n",
    "    def preprocess(data, labels, num_classes):\n",
    "        # flatten images\n",
    "        data = data.astype(np.float32)/255.0\n",
    "        data = np.reshape(data, [data.shape[0], -1])\n",
    "        # one hot encoding\n",
    "        num_labels = labels.shape[0]\n",
    "        index_offset = np.arange(num_labels) * num_classes\n",
    "        labels_one_hot = np.zeros((num_labels, num_classes))\n",
    "        labels_one_hot.flat[index_offset + labels.ravel()] = 1\n",
    "        return data, labels_one_hot\n",
    "    train, test = tf.keras.datasets.mnist.load_data()\n",
    "    train = preprocess(train[0], train[1], 10)\n",
    "    test = preprocess(test[0], test[1], 10)\n",
    "    return SimpleNamespace(\n",
    "        train=Dataset(train), \n",
    "        test=Dataset(test))\n",
    "mnist = load_mnist()"
   ]
  },
  {
   "cell_type": "code",
   "execution_count": 3,
   "metadata": {},
   "outputs": [],
   "source": [
    "# Classes from previous exercises\n",
    "class DenseLayer(object):\n",
    "    def __init__(self, n_inputs, n_units, afunc=None, w_stddev=0.01):\n",
    "        '''Define the parameters of the layer'''\n",
    "        self.w = tf.Variable(\n",
    "            tf.random.truncated_normal([n_inputs, n_units], stddev=w_stddev),\n",
    "            name='w')\n",
    "        self.b = tf.Variable(\n",
    "            tf.zeros([n_units]), \n",
    "            name='b')\n",
    "        self.afunc = afunc\n",
    "    \n",
    "    def trainable_variables(self):\n",
    "        '''return trainable variables'''\n",
    "        return [self.w, self.b]\n",
    "\n",
    "    def __call__(self, x):\n",
    "        '''Layer function definition'''\n",
    "        y = tf.matmul(x, self.w) + self.b\n",
    "        if self.afunc is not None:\n",
    "            y = self.afunc(y)\n",
    "        return y\n",
    "\n",
    "class LogisticReg(object):\n",
    "    def __init__(self, layers):\n",
    "        self.layers = layers\n",
    "    \n",
    "    def trainable_variables(self):\n",
    "        return [var for layer in self.layers \n",
    "                for var in layer.trainable_variables()]\n",
    "        \n",
    "    def __call__(self, x, logits=False):\n",
    "        '''call layers and apply softmax if logits=False'''\n",
    "        # compute layers\n",
    "        output = x\n",
    "        for layer in self.layers:\n",
    "            output = layer(output)\n",
    "        # apply softmax if logits is false\n",
    "        # use logits=True for training\n",
    "        if not logits:  \n",
    "            output = tf.nn.softmax(output)\n",
    "        return output"
   ]
  },
  {
   "cell_type": "markdown",
   "metadata": {},
   "source": [
    "## Model definition"
   ]
  },
  {
   "cell_type": "code",
   "execution_count": 4,
   "metadata": {},
   "outputs": [],
   "source": [
    "sess = tf.InteractiveSession()"
   ]
  },
  {
   "cell_type": "code",
   "execution_count": 5,
   "metadata": {},
   "outputs": [],
   "source": [
    "input_size= [28, 28]\n",
    "\n",
    "n_outputs= 10\n",
    "n_input_maps= 32 \n",
    "n_maps = 64\n",
    "\n",
    "filter_size = [5, 5]\n",
    "pool_size =   [2, 2]\n",
    "\n",
    "n_hidden = 256"
   ]
  },
  {
   "cell_type": "code",
   "execution_count": 6,
   "metadata": {},
   "outputs": [],
   "source": [
    "class ConvLayer(object):\n",
    "    def __init__(self, input_maps, output_maps, filter_size, \n",
    "                 pool_size, afunc=None):\n",
    "        '''\n",
    "        Convolution layer with VALID padding and pooling layer.\n",
    "        \n",
    "        input_maps: number of input maps.\n",
    "        output_maps: number of output maps.\n",
    "        filter_size: list/tuple with the size of the kernel filter.\n",
    "        pool_size: list/tuple with the size of the pool filter.\n",
    "        afunc: activation function.\n",
    "        '''\n",
    "        self.w = tf.Variable(tf.random.truncated_normal(\n",
    "            shape=[filter_size[0], filter_size[1], \n",
    "                   input_maps, output_maps],\n",
    "            stddev=0.1), name='w')\n",
    "        self.b = tf.Variable(tf.random.truncated_normal(\n",
    "            shape=[output_maps], \n",
    "            stddev=0.1), name= 'b')\n",
    "        self.pool_size = pool_size\n",
    "        self.afunc = afunc\n",
    "    \n",
    "    def trainable_variables(self):\n",
    "        '''return trainable variables'''\n",
    "        return [self.w, self.b]\n",
    "    \n",
    "    def __call__(self, x):\n",
    "        out = tf.nn.conv2d(\n",
    "            x, self.w, strides=[1, 1, 1, 1], \n",
    "            padding='VALID')\n",
    "        out = out + self.b\n",
    "        if self.afunc is not None:\n",
    "            out = self.afunc(out)\n",
    "        out = tf.nn.max_pool(\n",
    "            out, ksize=[1, self.pool_size[0], self.pool_size[1], 1],\n",
    "            strides=[1, self.pool_size[0], self.pool_size[1], 1], \n",
    "            padding='VALID')\n",
    "        return out\n",
    "\n",
    "class ReshapeLayer(object):\n",
    "    def __init__(self, output_shape):\n",
    "        self.output_shape = output_shape\n",
    "    \n",
    "    def trainable_variables(self):\n",
    "        '''return trainable variables'''\n",
    "        return []\n",
    "    \n",
    "    def __call__(self, x):\n",
    "        return tf.reshape(x, self.output_shape)\n",
    "\n",
    "\n",
    "# define model\n",
    "model = LogisticReg([\n",
    "    ConvLayer(1, n_input_maps, filter_size, pool_size, afunc=tf.nn.relu),\n",
    "    ConvLayer(n_input_maps, n_maps, filter_size, pool_size, afunc=tf.nn.relu),\n",
    "    ReshapeLayer([-1, 4*4*64]),\n",
    "    DenseLayer(4*4*n_maps, n_hidden, afunc=tf.nn.relu),\n",
    "    DenseLayer(n_hidden, n_outputs)\n",
    "]) \n",
    "\n",
    "weights = []\n",
    "for layer in model.layers:\n",
    "    if type(layer) != ReshapeLayer:\n",
    "        weights.append(layer.w)\n",
    "\n",
    "optimizer = tf.keras.optimizers.Adam(1e-3)  \n"
   ]
  },
  {
   "cell_type": "markdown",
   "metadata": {},
   "source": [
    "## Training"
   ]
  },
  {
   "cell_type": "code",
   "execution_count": 7,
   "metadata": {},
   "outputs": [],
   "source": [
    "def accuracy_train(predictions, labels):\n",
    "    if n_outputs == 1:\n",
    "        return (100.0 * np.sum(np.greater(predictions, 0.5) == np.greater(labels, 0.5))// predictions.shape[0])\n",
    "    else:\n",
    "        return (100.0 * np.sum(np.argmax(predictions, 1) == np.argmax(labels, 1))// predictions.shape[0])\n",
    "    \n",
    "def accuracy_test (predictions, labels):\n",
    "    if n_outputs == 1:\n",
    "        return (100.0 * np.sum(np.greater(predictions, 0.5) == np.greater(labels, 0.5))// predictions.shape[0].value)\n",
    "    else:\n",
    "        return (100.0 * np.sum(np.argmax(predictions, 1) == np.argmax(labels, 1))// predictions.shape[0].value)"
   ]
  },
  {
   "cell_type": "code",
   "execution_count": 8,
   "metadata": {},
   "outputs": [],
   "source": [
    "def loss_fn(logits, labels, weights):\n",
    "    '''compute softmax cross entory'''\n",
    "    error = tf.reduce_mean(tf.nn.softmax_cross_entropy_with_logits(\n",
    "        logits=logits, \n",
    "        labels=labels))\n",
    "    reg = 0\n",
    "    for w in weights:\n",
    "        reg = reg + tf.nn.l2_loss(w)\n",
    "    return error + 0.0001*reg\n",
    "\n",
    "def train_step(labels, inputs):\n",
    "    with tf.GradientTape() as tape:\n",
    "        logits = model(inputs, logits=True)\n",
    "        loss = loss_fn(logits, labels, weights)\n",
    "    gradients = tape.gradient(loss, model.trainable_variables())\n",
    "    optimizer.apply_gradients(zip(gradients, model.trainable_variables()))\n",
    "    \n",
    "    return loss.numpy(), model(inputs).numpy()\n"
   ]
  },
  {
   "cell_type": "code",
   "execution_count": 9,
   "metadata": {},
   "outputs": [],
   "source": [
    "num_steps = 5000     # play with different values\n",
    "summary_freq = 200\n",
    "n_test_log = 10\n",
    "\n",
    "batch_size = 100 # play with different values for batch size"
   ]
  },
  {
   "cell_type": "code",
   "execution_count": 13,
   "metadata": {},
   "outputs": [
    {
     "name": "stdout",
     "output_type": "stream",
     "text": [
      "0 , train: 0.495  | test: 99.5  | loss: 0.0003261350840330124\n",
      "200 , train: 99.825  | test: 99.2  | loss: 0.03782364751212299\n",
      "400 , train: 99.795  | test: 99.3  | loss: 0.03569601812399924\n",
      "600 , train: 99.855  | test: 98.8  | loss: 0.03427996394224465\n",
      "800 , train: 99.87  | test: 98.7  | loss: 0.034069064753130075\n",
      "1000 , train: 99.855  | test: 99.1  | loss: 0.0359920484572649\n",
      "1200 , train: 99.85  | test: 99.2  | loss: 0.03469652283936739\n",
      "1400 , train: 99.895  | test: 98.8  | loss: 0.03368754541501403\n",
      "1600 , train: 99.815  | test: 99.6  | loss: 0.03562678243033588\n",
      "1800 , train: 99.84  | test: 99.4  | loss: 0.03301527532748878\n",
      "2000 , train: 99.89  | test: 98.9  | loss: 0.0319012503977865\n",
      "2200 , train: 99.865  | test: 99.1  | loss: 0.032847594674676656\n",
      "2400 , train: 99.94  | test: 99.3  | loss: 0.029723613196983932\n",
      "2600 , train: 99.91  | test: 98.9  | loss: 0.03022186040878296\n",
      "2800 , train: 99.85  | test: 99.3  | loss: 0.03482300687581301\n",
      "3000 , train: 99.875  | test: 99.2  | loss: 0.029131593219935893\n",
      "3200 , train: 99.935  | test: 98.8  | loss: 0.02821405260823667\n",
      "3400 , train: 99.87  | test: 99.5  | loss: 0.03215447748079896\n",
      "3600 , train: 99.915  | test: 99.0  | loss: 0.02889224064536393\n",
      "3800 , train: 99.89  | test: 99.4  | loss: 0.03115951797924936\n",
      "4000 , train: 99.885  | test: 99.2  | loss: 0.03139816513285041\n",
      "4200 , train: 99.975  | test: 99.0  | loss: 0.026382739963009952\n",
      "4400 , train: 99.885  | test: 98.6  | loss: 0.03004996388219297\n",
      "4600 , train: 99.88  | test: 99.0  | loss: 0.0320936016831547\n",
      "4800 , train: 99.94  | test: 99.5  | loss: 0.02633865749463439\n",
      "Epoch Time: 3m 51s\n"
     ]
    }
   ],
   "source": [
    "mean_loss= 0\n",
    "train_accuracy= 0\n",
    "\n",
    "import time\n",
    "\n",
    "def epoch_time(start_time, end_time):\n",
    "    elapsed_time = end_time - start_time\n",
    "    elapsed_mins = int(elapsed_time / 60)\n",
    "    elapsed_secs = int(elapsed_time - (elapsed_mins * 60))\n",
    "    return elapsed_mins, elapsed_secs\n",
    "\n",
    "\n",
    "n_epoch = []\n",
    "n_train_accuracy = []\n",
    "n_test_accuracy = []\n",
    "\n",
    "start_time = time.time()\n",
    "\n",
    "for step in range(num_steps):\n",
    "    batch_X, batch_y= mnist.train.next_batch(batch_size)    \n",
    "    batch_X= np.reshape(batch_X, [-1,28,28,1])\n",
    "    l, train_pred = train_step(batch_y, batch_X)\n",
    "    train_accuracy += accuracy_train(train_pred, batch_y)\n",
    "    mean_loss += l\n",
    "\n",
    "    if step%summary_freq == 0:\n",
    "        train_accuracy= train_accuracy/summary_freq\n",
    "        \n",
    "        test_accuracy= 0\n",
    "        for i in range(n_test_log):\n",
    "            batch_X_test, batch_y_test= mnist.test.next_batch(batch_size) \n",
    "            batch_X_test = np.reshape(batch_X_test, [-1,28,28,1]) \n",
    "            pred = model(batch_X_test)\n",
    "            test_accuracy += accuracy_test(pred, batch_y_test)\n",
    "        test_accuracy= test_accuracy/n_test_log\n",
    "        \n",
    "        n_epoch.append(step)\n",
    "        n_train_accuracy.append(train_accuracy)\n",
    "        n_test_accuracy.append(test_accuracy)\n",
    "\n",
    "        print(step, ', train:',train_accuracy,' | test:', test_accuracy, ' | loss:', mean_loss/summary_freq)\n",
    "\n",
    "        mean_loss= 0\n",
    "        train_accuracy= 0\n",
    "\n",
    "end_time = time.time()\n",
    "epoch_mins, epoch_secs = epoch_time(start_time, end_time)\n",
    "print(f'Epoch Time: {epoch_mins}m {epoch_secs}s')\n"
   ]
  },
  {
   "cell_type": "markdown",
   "metadata": {},
   "source": [
    "## Test the trained model on the testing dataset"
   ]
  },
  {
   "cell_type": "code",
   "execution_count": 11,
   "metadata": {},
   "outputs": [
    {
     "name": "stdout",
     "output_type": "stream",
     "text": [
      "Number: [[0. 0. 0. 0. 0. 0. 0. 1. 0. 0.]]\n",
      "Prediction by the model: 7\n"
     ]
    },
    {
     "data": {
      "text/plain": [
       "<matplotlib.image.AxesImage at 0x7fe682dd03d0>"
      ]
     },
     "execution_count": 11,
     "metadata": {},
     "output_type": "execute_result"
    },
    {
     "data": {
      "image/png": "[encoded data removed]",
      "text/plain": [
       "<Figure size 432x288 with 1 Axes>"
      ]
     },
     "metadata": {
      "needs_background": "light"
     },
     "output_type": "display_data"
    }
   ],
   "source": [
    "test_sample_x, test_sample_y= mnist.test.next_batch(1) \n",
    "\n",
    "pred = model(np.reshape(test_sample_x, [-1,28,28,1]))\n",
    "print('Number:', test_sample_y)\n",
    "print('Prediction by the model:', np.argmax(pred))\n",
    "\n",
    "plt.imshow(np.reshape(test_sample_x, [28,28]))"
   ]
  },
  {
   "cell_type": "code",
   "execution_count": 12,
   "metadata": {},
   "outputs": [
    {
     "data": {
      "text/plain": [
       "<matplotlib.legend.Legend at 0x7fe682d22b20>"
      ]
     },
     "execution_count": 12,
     "metadata": {},
     "output_type": "execute_result"
    },
    {
     "data": {
      "image/png": "[encoded data removed]",
      "text/plain": [
       "<Figure size 432x288 with 1 Axes>"
      ]
     },
     "metadata": {
      "needs_background": "light"
     },
     "output_type": "display_data"
    }
   ],
   "source": [
    "plt.plot(n_epoch, n_train_accuracy, label=\"Training Accuracy\")\n",
    "plt.plot(n_epoch, n_test_accuracy, label=\"Testing Accuracy\")\n",
    "plt.legend()\n"
   ]
  },
  {
   "cell_type": "code",
   "execution_count": null,
   "metadata": {},
   "outputs": [],
   "source": []
  }
 ],
 "metadata": {
  "kernelspec": {
   "display_name": "Python 3",
   "language": "python",
   "name": "python3"
  },
  "language_info": {
   "codemirror_mode": {
    "name": "ipython",
    "version": 3
   },
   "file_extension": ".py",
   "mimetype": "text/x-python",
   "name": "python",
   "nbconvert_exporter": "python",
   "pygments_lexer": "ipython3",
   "version": "3.8.5"
  },
  "toc": {
   "colors": {
    "hover_highlight": "#DAA520",
    "navigate_num": "#000000",
    "navigate_text": "#333333",
    "running_highlight": "#FF0000",
    "selected_highlight": "#FFD700",
    "sidebar_border": "#EEEEEE",
    "wrapper_background": "#FFFFFF"
   },
   "moveMenuLeft": true,
   "nav_menu": {
    "height": "102px",
    "width": "252px"
   },
   "navigate_menu": true,
   "number_sections": true,
   "sideBar": true,
   "threshold": 4,
   "toc_cell": false,
   "toc_section_display": "block",
   "toc_window_display": false,
   "widenNotebook": false
  }
 },
 "nbformat": 4,
 "nbformat_minor": 2
}
