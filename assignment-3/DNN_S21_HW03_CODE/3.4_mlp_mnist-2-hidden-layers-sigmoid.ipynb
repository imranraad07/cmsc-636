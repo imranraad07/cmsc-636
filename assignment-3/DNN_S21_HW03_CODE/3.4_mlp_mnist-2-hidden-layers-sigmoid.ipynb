{
 "cells": [
  {
   "cell_type": "markdown",
   "metadata": {},
   "source": [
    "# CMSC 636, HW3: Multilayer perceptron on MNIST dataset"
   ]
  },
  {
   "cell_type": "code",
   "execution_count": 1,
   "metadata": {},
   "outputs": [
    {
     "name": "stdout",
     "output_type": "stream",
     "text": [
      "WARNING:tensorflow:From /home/imram3/Desktop/cmsc-sping-2021/cmsc-636/assignment-3/DNN_S21_HW03_CODE/venv/lib/python3.8/site-packages/tensorflow/python/compat/v2_compat.py:96: disable_resource_variables (from tensorflow.python.ops.variable_scope) is deprecated and will be removed in a future version.\n",
      "Instructions for updating:\n",
      "non-resource variables are not supported in the long term\n"
     ]
    }
   ],
   "source": [
    "import tensorflow.compat.v1 as tf\n",
    "tf.disable_v2_behavior()\n",
    "tf.enable_eager_execution()\n",
    "import numpy as np\n",
    "import matplotlib.pyplot as plt\n",
    "import matplotlib.image as mpimg\n",
    "from types import SimpleNamespace\n",
    "%matplotlib inline"
   ]
  },
  {
   "cell_type": "markdown",
   "metadata": {},
   "source": [
    "## Load MNIST"
   ]
  },
  {
   "cell_type": "code",
   "execution_count": 2,
   "metadata": {},
   "outputs": [],
   "source": [
    "# load mnist dataset with labels encoded as one-hot vectors\n",
    "class Dataset():\n",
    "    def __init__(self, data):\n",
    "        self.data = data\n",
    "        self.index = 0\n",
    "        self.epochs = 0\n",
    "\n",
    "    def shuffle(self):\n",
    "        perm = np.arange(self.data[0].shape[0])\n",
    "        np.random.shuffle(perm)\n",
    "        self.data = tuple(datai[perm] for datai in self.data)\n",
    "    \n",
    "    def next_batch(self, batch_size):\n",
    "        start = self.index\n",
    "        end = self.index + batch_size\n",
    "        if end > self.data[0].shape[0]:\n",
    "            self.epochs += 1\n",
    "            self.shuffle()\n",
    "            self.index, start = 0, 0\n",
    "            end = batch_size\n",
    "        self.index = end\n",
    "        return tuple(datai[start:end, ...] for datai in self.data)\n",
    "            \n",
    "def load_mnist():\n",
    "    def preprocess(data, labels, num_classes):\n",
    "        # flatten images\n",
    "        data = data.astype(np.float32)/255.0\n",
    "        data = np.reshape(data, [data.shape[0], -1])\n",
    "        # one hot encoding\n",
    "        num_labels = labels.shape[0]\n",
    "        index_offset = np.arange(num_labels) * num_classes\n",
    "        labels_one_hot = np.zeros((num_labels, num_classes))\n",
    "        labels_one_hot.flat[index_offset + labels.ravel()] = 1\n",
    "        return data, labels_one_hot\n",
    "    train, test = tf.keras.datasets.mnist.load_data()\n",
    "    train = preprocess(train[0], train[1], 10)\n",
    "    test = preprocess(test[0], test[1], 10)\n",
    "    return SimpleNamespace(\n",
    "        train=Dataset(train), \n",
    "        test=Dataset(test))\n",
    "mnist = load_mnist()"
   ]
  },
  {
   "cell_type": "markdown",
   "metadata": {},
   "source": [
    "## Model definition"
   ]
  },
  {
   "cell_type": "code",
   "execution_count": 3,
   "metadata": {},
   "outputs": [],
   "source": [
    "sess = tf.InteractiveSession()"
   ]
  },
  {
   "cell_type": "code",
   "execution_count": 4,
   "metadata": {},
   "outputs": [],
   "source": [
    "input_size= 28*28\n",
    "n_outputs=  10\n",
    "n_hidden = 100\n",
    "batch_size= 100"
   ]
  },
  {
   "cell_type": "markdown",
   "metadata": {},
   "source": [
    "Define the computation graph. i.e:\n",
    "\n",
    "h1 = relu(x w1 + b1) </br> logits = h1 w2 + b2 </br>\n",
    "\n",
    "Where \"x w1\" is a matrix multiplication between the matices x and w1. The matrix x is a matrix whose rows represent the training input data."
   ]
  },
  {
   "cell_type": "code",
   "execution_count": 5,
   "metadata": {},
   "outputs": [],
   "source": [
    "class DenseLayer(object):\n",
    "    def __init__(self, n_inputs, n_units, afunc=None, w_stddev=0.01):\n",
    "        '''Define the parameters of the layer'''\n",
    "        self.w = tf.Variable(\n",
    "            tf.random.truncated_normal([n_inputs, n_units], stddev=w_stddev),\n",
    "            name='w')\n",
    "        self.b = tf.Variable(\n",
    "            tf.zeros([n_units]), \n",
    "            name='b')\n",
    "        self.afunc = afunc\n",
    "    \n",
    "    def trainable_variables(self):\n",
    "        '''return trainable variables'''\n",
    "        return [self.w, self.b]\n",
    "\n",
    "    def __call__(self, x):\n",
    "        '''Layer function definition'''\n",
    "        y = tf.matmul(x, self.w) + self.b\n",
    "        if self.afunc is not None:\n",
    "            y = self.afunc(y)\n",
    "        return y\n",
    "\n",
    "class LogisticReg(object):\n",
    "    def __init__(self, layers):\n",
    "        self.layers = layers\n",
    "        \n",
    "    def trainable_variables(self):\n",
    "        return [var for layer in self.layers \n",
    "                for var in layer.trainable_variables()]\n",
    "        \n",
    "    def __call__(self, x, logits=False):\n",
    "        '''call layers and apply softmax if logits=False'''\n",
    "        # compute layers\n",
    "        output = x\n",
    "        for layer in self.layers:\n",
    "            output = layer(output)\n",
    "        # apply softmax if logits is false\n",
    "        # use logits=True for training\n",
    "        if not logits:  \n",
    "            output = tf.nn.softmax(output)\n",
    "        return output\n",
    "\n",
    "def loss_fn(logits, labels, weights):\n",
    "    '''compute softmax cross entory'''\n",
    "    error = tf.reduce_mean(tf.nn.softmax_cross_entropy_with_logits(logits=logits, labels=labels))\n",
    "    # weights are not used... try to add a regularization loss\n",
    "    # reg = ???\n",
    "    return error\n",
    "    \n",
    "    \n",
    "# define model\n",
    "model = LogisticReg([DenseLayer(input_size, n_hidden, afunc=tf.nn.sigmoid), \n",
    "                     DenseLayer(n_hidden, n_hidden, afunc=tf.nn.sigmoid), \n",
    "                     DenseLayer(n_hidden, n_outputs)])\n",
    "weights = [layer.w for layer in model.layers]\n",
    "\n",
    "# define optimizer.\n",
    "optimizer = tf.keras.optimizers.Adam(1e-3)  \n"
   ]
  },
  {
   "cell_type": "markdown",
   "metadata": {},
   "source": [
    "## Training"
   ]
  },
  {
   "cell_type": "code",
   "execution_count": 6,
   "metadata": {},
   "outputs": [],
   "source": [
    "def accuracy_train(predictions, labels):\n",
    "    if n_outputs == 1:\n",
    "        return (100.0 * np.sum(np.greater(predictions, 0.5) == np.greater(labels, 0.5))// predictions.shape[0])\n",
    "    else:\n",
    "        return (100.0 * np.sum(np.argmax(predictions, 1) == np.argmax(labels, 1))// predictions.shape[0])\n",
    "    \n",
    "def accuracy_test (predictions, labels):\n",
    "    if n_outputs == 1:\n",
    "        return (100.0 * np.sum(np.greater(predictions, 0.5) == np.greater(labels, 0.5))// predictions.shape[0].value)\n",
    "    else:\n",
    "        return (100.0 * np.sum(np.argmax(predictions, 1) == np.argmax(labels, 1))// predictions.shape[0].value)"
   ]
  },
  {
   "cell_type": "code",
   "execution_count": 7,
   "metadata": {},
   "outputs": [
    {
     "name": "stdout",
     "output_type": "stream",
     "text": [
      "WARNING:tensorflow:From /home/imram3/Desktop/cmsc-sping-2021/cmsc-636/assignment-3/DNN_S21_HW03_CODE/venv/lib/python3.8/site-packages/tensorflow/python/util/dispatch.py:201: softmax_cross_entropy_with_logits (from tensorflow.python.ops.nn_ops) is deprecated and will be removed in a future version.\n",
      "Instructions for updating:\n",
      "\n",
      "Future major versions of TensorFlow will allow gradients to flow\n",
      "into the labels input on backprop by default.\n",
      "\n",
      "See `tf.nn.softmax_cross_entropy_with_logits_v2`.\n",
      "\n",
      "0 , train: 0.065  | test: 8.5  | loss: 0.011497068405151366\n",
      "200 , train: 42.845  | test: 66.8  | loss: 1.7226715934276582\n",
      "400 , train: 78.56  | test: 82.0  | loss: 0.7652371962368488\n",
      "600 , train: 87.27  | test: 85.8  | loss: 0.48114122442901136\n",
      "800 , train: 90.02  | test: 87.5  | loss: 0.37507151685655116\n",
      "1000 , train: 91.58  | test: 93.4  | loss: 0.31489119201898574\n",
      "1200 , train: 92.445  | test: 93.2  | loss: 0.2725643406435847\n",
      "1400 , train: 93.57  | test: 97.0  | loss: 0.22929157383739948\n",
      "1600 , train: 93.985  | test: 97.7  | loss: 0.2223591187596321\n",
      "1800 , train: 94.67  | test: 94.9  | loss: 0.1955998530238867\n",
      "2000 , train: 95.37  | test: 95.8  | loss: 0.16942720344290138\n",
      "2200 , train: 95.35  | test: 94.9  | loss: 0.1695803018659353\n",
      "2400 , train: 95.91  | test: 94.8  | loss: 0.15273609390482307\n",
      "2600 , train: 96.28  | test: 95.9  | loss: 0.1359029445797205\n",
      "2800 , train: 96.47  | test: 96.2  | loss: 0.1333788039535284\n",
      "3000 , train: 96.595  | test: 95.6  | loss: 0.1261942191980779\n",
      "3200 , train: 96.87  | test: 95.1  | loss: 0.11137867499142885\n",
      "3400 , train: 96.96  | test: 96.1  | loss: 0.11461684170179069\n",
      "3600 , train: 97.235  | test: 96.4  | loss: 0.10267515901476144\n",
      "3800 , train: 97.57  | test: 97.2  | loss: 0.09304295635782182\n",
      "4000 , train: 97.45  | test: 95.3  | loss: 0.09496373818255961\n",
      "4200 , train: 97.475  | test: 96.7  | loss: 0.09090995855629444\n",
      "4400 , train: 97.79  | test: 96.9  | loss: 0.08330181148834527\n",
      "4600 , train: 97.85  | test: 96.9  | loss: 0.07825385588686913\n",
      "4800 , train: 98.04  | test: 97.2  | loss: 0.07665759371593595\n",
      "5000 , train: 98.265  | test: 97.9  | loss: 0.06812325450126082\n",
      "5200 , train: 98.16  | test: 97.7  | loss: 0.0684100703895092\n",
      "5400 , train: 98.115  | test: 96.5  | loss: 0.0705282343365252\n",
      "5600 , train: 98.66  | test: 96.8  | loss: 0.05717466685455293\n",
      "5800 , train: 98.38  | test: 97.0  | loss: 0.06022696755826473\n",
      "6000 , train: 98.38  | test: 97.1  | loss: 0.06018162676598877\n",
      "6200 , train: 98.73  | test: 97.1  | loss: 0.052457175944000484\n",
      "6400 , train: 98.805  | test: 97.9  | loss: 0.049475564018357544\n",
      "6600 , train: 98.59  | test: 97.5  | loss: 0.052476999611826614\n",
      "6800 , train: 99.09  | test: 97.2  | loss: 0.04104768824763596\n",
      "7000 , train: 98.695  | test: 97.4  | loss: 0.04810939325019717\n",
      "7200 , train: 98.99  | test: 97.2  | loss: 0.04418984322575852\n",
      "7400 , train: 99.26  | test: 97.4  | loss: 0.035331638881471006\n",
      "7600 , train: 99.155  | test: 98.2  | loss: 0.03852146831806749\n",
      "7800 , train: 98.995  | test: 96.1  | loss: 0.04085254334146157\n",
      "8000 , train: 99.265  | test: 97.8  | loss: 0.033178395302966235\n",
      "8200 , train: 99.175  | test: 97.6  | loss: 0.035644932481227444\n",
      "8400 , train: 99.265  | test: 97.6  | loss: 0.03316064469399862\n",
      "8600 , train: 99.325  | test: 98.5  | loss: 0.028653743775794282\n",
      "8800 , train: 99.31  | test: 97.1  | loss: 0.03080903730704449\n",
      "9000 , train: 99.465  | test: 97.7  | loss: 0.025963472240837292\n",
      "9200 , train: 99.465  | test: 97.7  | loss: 0.026002163947559893\n",
      "9400 , train: 99.525  | test: 97.5  | loss: 0.022724983210209757\n",
      "9600 , train: 99.45  | test: 97.4  | loss: 0.02609589067287743\n",
      "9800 , train: 99.65  | test: 97.2  | loss: 0.02031498927855864\n"
     ]
    }
   ],
   "source": [
    "num_steps = 10000\n",
    "summary_freq = 200\n",
    "n_test_log = 10\n",
    "\n",
    "def train_step(labels, inputs):\n",
    "    '''run a single step of gradient descent'''\n",
    "    # compute gradients\n",
    "    with tf.GradientTape() as tape:\n",
    "        logits = model(inputs, logits=True)\n",
    "        loss = loss_fn(logits, labels, weights)\n",
    "    # apply grandients to optimizer\n",
    "    gradients = tape.gradient(loss, model.trainable_variables())\n",
    "    optimizer.apply_gradients(zip(gradients, model.trainable_variables()))\n",
    "    \n",
    "    return loss.numpy(), model(inputs).numpy()\n",
    "\n",
    "\n",
    "n_epoch = []\n",
    "n_train_accuracy = []\n",
    "n_test_accuracy = []\n",
    "\n",
    "\n",
    "mean_loss= 0\n",
    "train_accuracy= 0\n",
    "# Perform num_steps training steps\n",
    "for step in range(num_steps):\n",
    "    # Get next batch of 100 images\n",
    "    batch_X, batch_y= mnist.train.next_batch(batch_size)    \n",
    "    # Call the optimizer to perform one step of the training\n",
    "    l, train_pred = train_step(batch_y, batch_X)\n",
    "    # Compute accuracy\n",
    "    train_accuracy += accuracy_train(train_pred, batch_y)\n",
    "    mean_loss += l\n",
    "    if step%summary_freq == 0:\n",
    "        # Mean train accuracy\n",
    "        train_accuracy= train_accuracy/summary_freq\n",
    "        # Evaluate accuracy on test dataset\n",
    "        test_accuracy= 0\n",
    "        for i in range(n_test_log):\n",
    "            batch_X_test, batch_y_test= mnist.test.next_batch(batch_size) \n",
    "            pred = model(batch_X_test)\n",
    "            test_accuracy += accuracy_test(pred, batch_y_test)\n",
    "        test_accuracy= test_accuracy/n_test_log\n",
    "        \n",
    "        n_epoch.append(step)\n",
    "        n_train_accuracy.append(train_accuracy)\n",
    "        n_test_accuracy.append(test_accuracy)\n",
    "\n",
    "        print(step, ', train:',train_accuracy,' | test:', test_accuracy, ' | loss:', mean_loss/summary_freq)\n",
    "        mean_loss= 0\n",
    "        train_accuracy= 0"
   ]
  },
  {
   "cell_type": "markdown",
   "metadata": {},
   "source": [
    "## Test the model using testing dataset"
   ]
  },
  {
   "cell_type": "code",
   "execution_count": 8,
   "metadata": {},
   "outputs": [
    {
     "name": "stdout",
     "output_type": "stream",
     "text": [
      "Actual number: 0\n",
      "Prediction by the model: 0\n"
     ]
    },
    {
     "data": {
      "text/plain": [
       "<matplotlib.image.AxesImage at 0x7f9f353df4c0>"
      ]
     },
     "execution_count": 8,
     "metadata": {},
     "output_type": "execute_result"
    },
    {
     "data": {
      "image/png": "[encoded data removed]",
      "text/plain": [
       "<Figure size 432x288 with 1 Axes>"
      ]
     },
     "metadata": {
      "needs_background": "light"
     },
     "output_type": "display_data"
    }
   ],
   "source": [
    "# Acquire one sample from the mnist dataset\n",
    "test_sample_x, test_sample_y= mnist.test.next_batch(1) \n",
    "\n",
    "# Get a prediction for this sample\n",
    "pred = model(test_sample_x)\n",
    "\n",
    "print('Actual number:', np.argmax(test_sample_y))\n",
    "print('Prediction by the model:', np.argmax(pred))\n",
    "\n",
    "# plot\n",
    "plt.imshow(np.reshape(test_sample_x, [28,28]))"
   ]
  },
  {
   "cell_type": "code",
   "execution_count": 9,
   "metadata": {},
   "outputs": [
    {
     "data": {
      "text/plain": [
       "<matplotlib.legend.Legend at 0x7f9f352bd820>"
      ]
     },
     "execution_count": 9,
     "metadata": {},
     "output_type": "execute_result"
    },
    {
     "data": {
      "image/png": "[encoded data removed]",
      "text/plain": [
       "<Figure size 432x288 with 1 Axes>"
      ]
     },
     "metadata": {
      "needs_background": "light"
     },
     "output_type": "display_data"
    }
   ],
   "source": [
    "plt.plot(n_epoch, n_train_accuracy, label=\"Training Accuracy\")\n",
    "plt.plot(n_epoch, n_test_accuracy, label=\"Testing Accuracy\")\n",
    "plt.legend()\n"
   ]
  },
  {
   "cell_type": "code",
   "execution_count": null,
   "metadata": {},
   "outputs": [],
   "source": []
  }
 ],
 "metadata": {
  "kernelspec": {
   "display_name": "Python 3",
   "language": "python",
   "name": "python3"
  },
  "language_info": {
   "codemirror_mode": {
    "name": "ipython",
    "version": 3
   },
   "file_extension": ".py",
   "mimetype": "text/x-python",
   "name": "python",
   "nbconvert_exporter": "python",
   "pygments_lexer": "ipython3",
   "version": "3.8.5"
  },
  "toc": {
   "colors": {
    "hover_highlight": "#DAA520",
    "navigate_num": "#000000",
    "navigate_text": "#333333",
    "running_highlight": "#FF0000",
    "selected_highlight": "#FFD700",
    "sidebar_border": "#EEEEEE",
    "wrapper_background": "#FFFFFF"
   },
   "moveMenuLeft": true,
   "nav_menu": {
    "height": "102px",
    "width": "252px"
   },
   "navigate_menu": true,
   "number_sections": true,
   "sideBar": true,
   "threshold": 4,
   "toc_cell": false,
   "toc_section_display": "block",
   "toc_window_display": false,
   "widenNotebook": false
  }
 },
 "nbformat": 4,
 "nbformat_minor": 2
}
