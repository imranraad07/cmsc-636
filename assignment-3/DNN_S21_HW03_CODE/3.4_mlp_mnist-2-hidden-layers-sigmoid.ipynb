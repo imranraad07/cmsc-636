{
 "cells": [
  {
   "cell_type": "markdown",
   "metadata": {},
   "source": [
    "# CMSC 636, HW3: Multilayer perceptron on MNIST dataset"
   ]
  },
  {
   "cell_type": "code",
   "execution_count": 1,
   "metadata": {},
   "outputs": [
    {
     "name": "stdout",
     "output_type": "stream",
     "text": [
      "WARNING:tensorflow:From /home/imram3/Desktop/cmsc-sping-2021/cmsc-636/assignment-3/DNN_S21_HW03_CODE/venv/lib/python3.8/site-packages/tensorflow/python/compat/v2_compat.py:96: disable_resource_variables (from tensorflow.python.ops.variable_scope) is deprecated and will be removed in a future version.\n",
      "Instructions for updating:\n",
      "non-resource variables are not supported in the long term\n"
     ]
    }
   ],
   "source": [
    "import tensorflow.compat.v1 as tf\n",
    "tf.disable_v2_behavior()\n",
    "tf.enable_eager_execution()\n",
    "import numpy as np\n",
    "import matplotlib.pyplot as plt\n",
    "import matplotlib.image as mpimg\n",
    "from types import SimpleNamespace\n",
    "%matplotlib inline"
   ]
  },
  {
   "cell_type": "markdown",
   "metadata": {},
   "source": [
    "## Load MNIST"
   ]
  },
  {
   "cell_type": "code",
   "execution_count": 2,
   "metadata": {},
   "outputs": [],
   "source": [
    "# load mnist dataset with labels encoded as one-hot vectors\n",
    "class Dataset():\n",
    "    def __init__(self, data):\n",
    "        self.data = data\n",
    "        self.index = 0\n",
    "        self.epochs = 0\n",
    "\n",
    "    def shuffle(self):\n",
    "        perm = np.arange(self.data[0].shape[0])\n",
    "        np.random.shuffle(perm)\n",
    "        self.data = tuple(datai[perm] for datai in self.data)\n",
    "    \n",
    "    def next_batch(self, batch_size):\n",
    "        start = self.index\n",
    "        end = self.index + batch_size\n",
    "        if end > self.data[0].shape[0]:\n",
    "            self.epochs += 1\n",
    "            self.shuffle()\n",
    "            self.index, start = 0, 0\n",
    "            end = batch_size\n",
    "        self.index = end\n",
    "        return tuple(datai[start:end, ...] for datai in self.data)\n",
    "            \n",
    "def load_mnist():\n",
    "    def preprocess(data, labels, num_classes):\n",
    "        # flatten images\n",
    "        data = data.astype(np.float32)/255.0\n",
    "        data = np.reshape(data, [data.shape[0], -1])\n",
    "        # one hot encoding\n",
    "        num_labels = labels.shape[0]\n",
    "        index_offset = np.arange(num_labels) * num_classes\n",
    "        labels_one_hot = np.zeros((num_labels, num_classes))\n",
    "        labels_one_hot.flat[index_offset + labels.ravel()] = 1\n",
    "        return data, labels_one_hot\n",
    "    train, test = tf.keras.datasets.mnist.load_data()\n",
    "    train = preprocess(train[0], train[1], 10)\n",
    "    test = preprocess(test[0], test[1], 10)\n",
    "    return SimpleNamespace(\n",
    "        train=Dataset(train), \n",
    "        test=Dataset(test))\n",
    "mnist = load_mnist()"
   ]
  },
  {
   "cell_type": "markdown",
   "metadata": {},
   "source": [
    "## Model definition"
   ]
  },
  {
   "cell_type": "code",
   "execution_count": 3,
   "metadata": {},
   "outputs": [],
   "source": [
    "sess = tf.InteractiveSession()"
   ]
  },
  {
   "cell_type": "code",
   "execution_count": 4,
   "metadata": {},
   "outputs": [],
   "source": [
    "input_size= 28*28\n",
    "n_outputs=  10\n",
    "n_hidden = 100\n",
    "batch_size= 100"
   ]
  },
  {
   "cell_type": "markdown",
   "metadata": {},
   "source": [
    "Define the computation graph. i.e:\n",
    "\n",
    "h1 = relu(x w1 + b1) </br> logits = h1 w2 + b2 </br>\n",
    "\n",
    "Where \"x w1\" is a matrix multiplication between the matices x and w1. The matrix x is a matrix whose rows represent the training input data."
   ]
  },
  {
   "cell_type": "code",
   "execution_count": 5,
   "metadata": {},
   "outputs": [],
   "source": [
    "class DenseLayer(object):\n",
    "    def __init__(self, n_inputs, n_units, afunc=None, w_stddev=0.01):\n",
    "        self.w = tf.Variable(\n",
    "            tf.random.truncated_normal([n_inputs, n_units], stddev=w_stddev),\n",
    "            name='w')\n",
    "        self.b = tf.Variable(\n",
    "            tf.zeros([n_units]), \n",
    "            name='b')\n",
    "        self.afunc = afunc\n",
    "    \n",
    "    def trainable_variables(self):\n",
    "        return [self.w, self.b]\n",
    "\n",
    "    def __call__(self, x):\n",
    "        y = tf.matmul(x, self.w) + self.b\n",
    "        if self.afunc is not None:\n",
    "            y = self.afunc(y)\n",
    "        return y\n",
    "\n",
    "class LogisticReg(object):\n",
    "    def __init__(self, layers):\n",
    "        self.layers = layers\n",
    "        \n",
    "    def trainable_variables(self):\n",
    "        return [var for layer in self.layers \n",
    "                for var in layer.trainable_variables()]\n",
    "        \n",
    "    def __call__(self, x, logits=False):\n",
    "        output = x\n",
    "        for layer in self.layers:\n",
    "            output = layer(output)\n",
    "        if not logits:  \n",
    "            output = tf.nn.softmax(output)\n",
    "        return output\n",
    "\n",
    "def loss_fn(logits, labels, weights):\n",
    "    error = tf.reduce_mean(tf.nn.softmax_cross_entropy_with_logits(logits=logits, labels=labels))\n",
    "    reg = 0\n",
    "    for w in weights:\n",
    "        reg = reg + tf.nn.l2_loss(w)\n",
    "    return error + 0.0001*reg\n",
    "    \n",
    "    \n",
    "model = LogisticReg([DenseLayer(input_size, n_hidden, afunc=tf.nn.sigmoid), \n",
    "                     DenseLayer(n_hidden, n_hidden, afunc=tf.nn.sigmoid), \n",
    "                     DenseLayer(n_hidden, n_outputs)])\n",
    "weights = [layer.w for layer in model.layers]\n",
    "\n",
    "optimizer = tf.keras.optimizers.Adam(1e-3)  \n"
   ]
  },
  {
   "cell_type": "markdown",
   "metadata": {},
   "source": [
    "## Training"
   ]
  },
  {
   "cell_type": "code",
   "execution_count": 6,
   "metadata": {},
   "outputs": [],
   "source": [
    "def accuracy_train(predictions, labels):\n",
    "    if n_outputs == 1:\n",
    "        return (100.0 * np.sum(np.greater(predictions, 0.5) == np.greater(labels, 0.5))// predictions.shape[0])\n",
    "    else:\n",
    "        return (100.0 * np.sum(np.argmax(predictions, 1) == np.argmax(labels, 1))// predictions.shape[0])\n",
    "    \n",
    "def accuracy_test (predictions, labels):\n",
    "    if n_outputs == 1:\n",
    "        return (100.0 * np.sum(np.greater(predictions, 0.5) == np.greater(labels, 0.5))// predictions.shape[0].value)\n",
    "    else:\n",
    "        return (100.0 * np.sum(np.argmax(predictions, 1) == np.argmax(labels, 1))// predictions.shape[0].value)"
   ]
  },
  {
   "cell_type": "code",
   "execution_count": 11,
   "metadata": {},
   "outputs": [
    {
     "name": "stdout",
     "output_type": "stream",
     "text": [
      "0 , train: 0.495  | test: 97.1  | loss: 0.0005455642938613891\n",
      "200 , train: 99.43  | test: 98.0  | loss: 0.1062304351106286\n",
      "400 , train: 99.38  | test: 97.6  | loss: 0.10908547300845385\n",
      "600 , train: 99.56  | test: 97.9  | loss: 0.10124751370400191\n",
      "800 , train: 99.51  | test: 98.0  | loss: 0.10505104411393404\n",
      "1000 , train: 99.325  | test: 98.5  | loss: 0.10990501366555691\n",
      "1200 , train: 99.585  | test: 97.8  | loss: 0.1032341069728136\n",
      "1400 , train: 99.49  | test: 98.6  | loss: 0.1048854961618781\n",
      "1600 , train: 99.37  | test: 97.7  | loss: 0.10684656091034413\n",
      "1800 , train: 99.575  | test: 98.3  | loss: 0.10275710716843606\n",
      "2000 , train: 99.475  | test: 97.8  | loss: 0.10540733847767114\n",
      "2200 , train: 99.42  | test: 97.6  | loss: 0.10772873230278492\n",
      "2400 , train: 99.59  | test: 98.3  | loss: 0.10217385310679675\n",
      "2600 , train: 99.47  | test: 97.9  | loss: 0.10527668777853251\n",
      "2800 , train: 99.445  | test: 98.0  | loss: 0.10806653302162886\n",
      "3000 , train: 99.575  | test: 97.0  | loss: 0.1032408907264471\n",
      "3200 , train: 99.495  | test: 97.9  | loss: 0.10499137327075005\n",
      "3400 , train: 99.455  | test: 98.2  | loss: 0.10411846105009318\n",
      "3600 , train: 99.58  | test: 98.3  | loss: 0.10153080735355616\n",
      "3800 , train: 99.55  | test: 98.6  | loss: 0.10388015016913414\n",
      "4000 , train: 99.435  | test: 96.8  | loss: 0.10730985932052135\n",
      "4200 , train: 99.62  | test: 97.9  | loss: 0.10232806853950023\n",
      "4400 , train: 99.45  | test: 99.1  | loss: 0.10573748346418142\n",
      "4600 , train: 99.395  | test: 98.4  | loss: 0.1087208479642868\n",
      "4800 , train: 99.635  | test: 97.4  | loss: 0.09986278362572193\n",
      "5000 , train: 99.545  | test: 97.8  | loss: 0.1041631593182683\n",
      "5200 , train: 99.375  | test: 98.3  | loss: 0.10868355218321085\n",
      "5400 , train: 99.635  | test: 98.7  | loss: 0.10057497192174196\n",
      "5600 , train: 99.55  | test: 98.6  | loss: 0.10308008626103402\n",
      "5800 , train: 99.43  | test: 97.0  | loss: 0.10662090487778186\n",
      "6000 , train: 99.635  | test: 98.2  | loss: 0.0999750979989767\n",
      "6200 , train: 99.57  | test: 97.2  | loss: 0.10447084620594978\n",
      "6400 , train: 99.425  | test: 98.1  | loss: 0.1079036681726575\n",
      "6600 , train: 99.63  | test: 98.0  | loss: 0.1010906907171011\n",
      "6800 , train: 99.655  | test: 97.6  | loss: 0.10164946749806404\n",
      "7000 , train: 99.48  | test: 98.5  | loss: 0.10622495822608471\n",
      "7200 , train: 99.625  | test: 98.1  | loss: 0.10154800601303578\n",
      "7400 , train: 99.57  | test: 98.0  | loss: 0.10313149902969598\n",
      "7600 , train: 99.53  | test: 98.1  | loss: 0.1039265487715602\n",
      "7800 , train: 99.685  | test: 97.8  | loss: 0.09954024363309145\n",
      "8000 , train: 99.575  | test: 98.2  | loss: 0.10337178032845258\n",
      "8200 , train: 99.455  | test: 98.1  | loss: 0.10656391013413667\n",
      "8400 , train: 99.755  | test: 98.3  | loss: 0.09959805522114039\n",
      "8600 , train: 99.56  | test: 97.1  | loss: 0.10203534021973609\n",
      "8800 , train: 99.47  | test: 98.6  | loss: 0.10535758931189776\n",
      "9000 , train: 99.71  | test: 98.0  | loss: 0.09872199524194002\n",
      "9200 , train: 99.605  | test: 98.4  | loss: 0.10241870857775211\n",
      "9400 , train: 99.475  | test: 97.9  | loss: 0.10583763416856527\n",
      "9600 , train: 99.685  | test: 97.8  | loss: 0.10009638659656048\n",
      "9800 , train: 99.49  | test: 98.0  | loss: 0.10162976831197738\n",
      "Epoch Time: 1m 23s\n"
     ]
    }
   ],
   "source": [
    "num_steps = 10000\n",
    "summary_freq = 200\n",
    "n_test_log = 10\n",
    "\n",
    "def train_step(labels, inputs):\n",
    "    with tf.GradientTape() as tape:\n",
    "        logits = model(inputs, logits=True)\n",
    "        loss = loss_fn(logits, labels, weights)\n",
    "    gradients = tape.gradient(loss, model.trainable_variables())\n",
    "    optimizer.apply_gradients(zip(gradients, model.trainable_variables()))\n",
    "    \n",
    "    return loss.numpy(), model(inputs).numpy()\n",
    "\n",
    "\n",
    "import time\n",
    "\n",
    "def epoch_time(start_time, end_time):\n",
    "    elapsed_time = end_time - start_time\n",
    "    elapsed_mins = int(elapsed_time / 60)\n",
    "    elapsed_secs = int(elapsed_time - (elapsed_mins * 60))\n",
    "    return elapsed_mins, elapsed_secs\n",
    "\n",
    "n_epoch = []\n",
    "n_train_accuracy = []\n",
    "n_test_accuracy = []\n",
    "\n",
    "\n",
    "mean_loss= 0\n",
    "train_accuracy= 0\n",
    "start_time = time.time()\n",
    "for step in range(num_steps):\n",
    "    batch_X, batch_y= mnist.train.next_batch(batch_size)    \n",
    "    l, train_pred = train_step(batch_y, batch_X)\n",
    "    train_accuracy += accuracy_train(train_pred, batch_y)\n",
    "    mean_loss += l\n",
    "    if step%summary_freq == 0:\n",
    "        train_accuracy= train_accuracy/summary_freq\n",
    "        test_accuracy= 0\n",
    "        for i in range(n_test_log):\n",
    "            batch_X_test, batch_y_test= mnist.test.next_batch(batch_size) \n",
    "            pred = model(batch_X_test)\n",
    "            test_accuracy += accuracy_test(pred, batch_y_test)\n",
    "        test_accuracy= test_accuracy/n_test_log\n",
    "        \n",
    "        n_epoch.append(step)\n",
    "        n_train_accuracy.append(train_accuracy)\n",
    "        n_test_accuracy.append(test_accuracy)\n",
    "\n",
    "        print(step, ', train:',train_accuracy,' | test:', test_accuracy, ' | loss:', mean_loss/summary_freq)\n",
    "        mean_loss= 0\n",
    "        train_accuracy= 0\n",
    "        \n",
    "end_time = time.time()\n",
    "epoch_mins, epoch_secs = epoch_time(start_time, end_time)\n",
    "print(f'Epoch Time: {epoch_mins}m {epoch_secs}s')\n"
   ]
  },
  {
   "cell_type": "markdown",
   "metadata": {},
   "source": [
    "## Test the model using testing dataset"
   ]
  },
  {
   "cell_type": "code",
   "execution_count": 8,
   "metadata": {},
   "outputs": [
    {
     "name": "stdout",
     "output_type": "stream",
     "text": [
      "Actual number: 5\n",
      "Prediction by the model: 5\n"
     ]
    },
    {
     "data": {
      "text/plain": [
       "<matplotlib.image.AxesImage at 0x7f38bd019520>"
      ]
     },
     "execution_count": 8,
     "metadata": {},
     "output_type": "execute_result"
    },
    {
     "data": {
      "image/png": "[encoded data removed]",
      "text/plain": [
       "<Figure size 432x288 with 1 Axes>"
      ]
     },
     "metadata": {
      "needs_background": "light"
     },
     "output_type": "display_data"
    }
   ],
   "source": [
    "test_sample_x, test_sample_y= mnist.test.next_batch(1) \n",
    "\n",
    "pred = model(test_sample_x)\n",
    "\n",
    "print('Actual number:', np.argmax(test_sample_y))\n",
    "print('Prediction by the model:', np.argmax(pred))\n",
    "\n",
    "plt.imshow(np.reshape(test_sample_x, [28,28]))"
   ]
  },
  {
   "cell_type": "code",
   "execution_count": 9,
   "metadata": {},
   "outputs": [
    {
     "data": {
      "text/plain": [
       "<matplotlib.legend.Legend at 0x7f38bcee8a60>"
      ]
     },
     "execution_count": 9,
     "metadata": {},
     "output_type": "execute_result"
    },
    {
     "data": {
      "image/png": "[encoded data removed]",
      "text/plain": [
       "<Figure size 432x288 with 1 Axes>"
      ]
     },
     "metadata": {
      "needs_background": "light"
     },
     "output_type": "display_data"
    }
   ],
   "source": [
    "plt.plot(n_epoch, n_train_accuracy, label=\"Training Accuracy\")\n",
    "plt.plot(n_epoch, n_test_accuracy, label=\"Testing Accuracy\")\n",
    "plt.legend()\n"
   ]
  },
  {
   "cell_type": "code",
   "execution_count": null,
   "metadata": {},
   "outputs": [],
   "source": []
  }
 ],
 "metadata": {
  "kernelspec": {
   "display_name": "Python 3",
   "language": "python",
   "name": "python3"
  },
  "language_info": {
   "codemirror_mode": {
    "name": "ipython",
    "version": 3
   },
   "file_extension": ".py",
   "mimetype": "text/x-python",
   "name": "python",
   "nbconvert_exporter": "python",
   "pygments_lexer": "ipython3",
   "version": "3.8.5"
  },
  "toc": {
   "colors": {
    "hover_highlight": "#DAA520",
    "navigate_num": "#000000",
    "navigate_text": "#333333",
    "running_highlight": "#FF0000",
    "selected_highlight": "#FFD700",
    "sidebar_border": "#EEEEEE",
    "wrapper_background": "#FFFFFF"
   },
   "moveMenuLeft": true,
   "nav_menu": {
    "height": "102px",
    "width": "252px"
   },
   "navigate_menu": true,
   "number_sections": true,
   "sideBar": true,
   "threshold": 4,
   "toc_cell": false,
   "toc_section_display": "block",
   "toc_window_display": false,
   "widenNotebook": false
  }
 },
 "nbformat": 4,
 "nbformat_minor": 2
}
