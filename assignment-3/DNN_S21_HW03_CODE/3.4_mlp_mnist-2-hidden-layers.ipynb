{
 "cells": [
  {
   "cell_type": "markdown",
   "metadata": {},
   "source": [
    "# CMSC 636, HW3: Multilayer perceptron on MNIST dataset"
   ]
  },
  {
   "cell_type": "code",
   "execution_count": 1,
   "metadata": {},
   "outputs": [
    {
     "name": "stdout",
     "output_type": "stream",
     "text": [
      "WARNING:tensorflow:From /home/imram3/Desktop/cmsc-sping-2021/cmsc-636/assignment-3/DNN_S21_HW03_CODE/venv/lib/python3.8/site-packages/tensorflow/python/compat/v2_compat.py:96: disable_resource_variables (from tensorflow.python.ops.variable_scope) is deprecated and will be removed in a future version.\n",
      "Instructions for updating:\n",
      "non-resource variables are not supported in the long term\n"
     ]
    }
   ],
   "source": [
    "import tensorflow.compat.v1 as tf\n",
    "tf.disable_v2_behavior()\n",
    "tf.enable_eager_execution()\n",
    "import numpy as np\n",
    "import matplotlib.pyplot as plt\n",
    "import matplotlib.image as mpimg\n",
    "from types import SimpleNamespace\n",
    "%matplotlib inline"
   ]
  },
  {
   "cell_type": "markdown",
   "metadata": {},
   "source": [
    "## Load MNIST"
   ]
  },
  {
   "cell_type": "code",
   "execution_count": 2,
   "metadata": {},
   "outputs": [],
   "source": [
    "# load mnist dataset with labels encoded as one-hot vectors\n",
    "class Dataset():\n",
    "    def __init__(self, data):\n",
    "        self.data = data\n",
    "        self.index = 0\n",
    "        self.epochs = 0\n",
    "\n",
    "    def shuffle(self):\n",
    "        perm = np.arange(self.data[0].shape[0])\n",
    "        np.random.shuffle(perm)\n",
    "        self.data = tuple(datai[perm] for datai in self.data)\n",
    "    \n",
    "    def next_batch(self, batch_size):\n",
    "        start = self.index\n",
    "        end = self.index + batch_size\n",
    "        if end > self.data[0].shape[0]:\n",
    "            self.epochs += 1\n",
    "            self.shuffle()\n",
    "            self.index, start = 0, 0\n",
    "            end = batch_size\n",
    "        self.index = end\n",
    "        return tuple(datai[start:end, ...] for datai in self.data)\n",
    "            \n",
    "def load_mnist():\n",
    "    def preprocess(data, labels, num_classes):\n",
    "        # flatten images\n",
    "        data = data.astype(np.float32)/255.0\n",
    "        data = np.reshape(data, [data.shape[0], -1])\n",
    "        # one hot encoding\n",
    "        num_labels = labels.shape[0]\n",
    "        index_offset = np.arange(num_labels) * num_classes\n",
    "        labels_one_hot = np.zeros((num_labels, num_classes))\n",
    "        labels_one_hot.flat[index_offset + labels.ravel()] = 1\n",
    "        return data, labels_one_hot\n",
    "    train, test = tf.keras.datasets.mnist.load_data()\n",
    "    train = preprocess(train[0], train[1], 10)\n",
    "    test = preprocess(test[0], test[1], 10)\n",
    "    return SimpleNamespace(\n",
    "        train=Dataset(train), \n",
    "        test=Dataset(test))\n",
    "mnist = load_mnist()"
   ]
  },
  {
   "cell_type": "markdown",
   "metadata": {},
   "source": [
    "## Model definition"
   ]
  },
  {
   "cell_type": "code",
   "execution_count": 3,
   "metadata": {},
   "outputs": [],
   "source": [
    "sess = tf.InteractiveSession()"
   ]
  },
  {
   "cell_type": "code",
   "execution_count": 4,
   "metadata": {},
   "outputs": [],
   "source": [
    "input_size= 28*28\n",
    "n_outputs=  10\n",
    "n_hidden = 100\n",
    "batch_size= 100"
   ]
  },
  {
   "cell_type": "markdown",
   "metadata": {},
   "source": [
    "Define the computation graph. i.e:\n",
    "\n",
    "h1 = relu(x w1 + b1) </br> logits = h1 w2 + b2 </br>\n",
    "\n",
    "Where \"x w1\" is a matrix multiplication between the matices x and w1. The matrix x is a matrix whose rows represent the training input data."
   ]
  },
  {
   "cell_type": "code",
   "execution_count": 5,
   "metadata": {},
   "outputs": [],
   "source": [
    "class DenseLayer(object):\n",
    "    def __init__(self, n_inputs, n_units, afunc=None, w_stddev=0.01):\n",
    "        self.w = tf.Variable(\n",
    "            tf.random.truncated_normal([n_inputs, n_units], stddev=w_stddev),\n",
    "            name='w')\n",
    "        self.b = tf.Variable(\n",
    "            tf.zeros([n_units]), \n",
    "            name='b')\n",
    "        self.afunc = afunc\n",
    "    \n",
    "    def trainable_variables(self):\n",
    "        return [self.w, self.b]\n",
    "\n",
    "    def __call__(self, x):\n",
    "        y = tf.matmul(x, self.w) + self.b\n",
    "        if self.afunc is not None:\n",
    "            y = self.afunc(y)\n",
    "        return y\n",
    "\n",
    "class LogisticReg(object):\n",
    "    def __init__(self, layers):\n",
    "        self.layers = layers\n",
    "        \n",
    "    def trainable_variables(self):\n",
    "        return [var for layer in self.layers \n",
    "                for var in layer.trainable_variables()]\n",
    "        \n",
    "    def __call__(self, x, logits=False):\n",
    "        output = x\n",
    "        for layer in self.layers:\n",
    "            output = layer(output)\n",
    "        if not logits:  \n",
    "            output = tf.nn.softmax(output)\n",
    "        return output\n",
    "\n",
    "def loss_fn(logits, labels, weights):\n",
    "    error = tf.reduce_mean(tf.nn.softmax_cross_entropy_with_logits(logits=logits, labels=labels))\n",
    "    reg = 0\n",
    "    for w in weights:\n",
    "        reg = reg + tf.nn.l2_loss(w)\n",
    "    return error + 0.0001*reg\n",
    "    \n",
    "    \n",
    "model = LogisticReg([DenseLayer(input_size, n_hidden, afunc=tf.nn.relu), \n",
    "                     DenseLayer(n_hidden, n_hidden, afunc=tf.nn.relu), \n",
    "                     DenseLayer(n_hidden, n_outputs)])\n",
    "weights = [layer.w for layer in model.layers]\n",
    "\n",
    "optimizer = tf.keras.optimizers.Adam(1e-3)  \n"
   ]
  },
  {
   "cell_type": "markdown",
   "metadata": {},
   "source": [
    "## Training"
   ]
  },
  {
   "cell_type": "code",
   "execution_count": 6,
   "metadata": {},
   "outputs": [],
   "source": [
    "def accuracy_train(predictions, labels):\n",
    "    if n_outputs == 1:\n",
    "        return (100.0 * np.sum(np.greater(predictions, 0.5) == np.greater(labels, 0.5))// predictions.shape[0])\n",
    "    else:\n",
    "        return (100.0 * np.sum(np.argmax(predictions, 1) == np.argmax(labels, 1))// predictions.shape[0])\n",
    "    \n",
    "def accuracy_test (predictions, labels):\n",
    "    if n_outputs == 1:\n",
    "        return (100.0 * np.sum(np.greater(predictions, 0.5) == np.greater(labels, 0.5))// predictions.shape[0].value)\n",
    "    else:\n",
    "        return (100.0 * np.sum(np.argmax(predictions, 1) == np.argmax(labels, 1))// predictions.shape[0].value)"
   ]
  },
  {
   "cell_type": "code",
   "execution_count": 11,
   "metadata": {},
   "outputs": [
    {
     "name": "stdout",
     "output_type": "stream",
     "text": [
      "0 , train: 0.495  | test: 97.9  | loss: 0.00030044618993997575\n",
      "200 , train: 99.985  | test: 97.9  | loss: 0.03499674677848816\n",
      "400 , train: 99.93  | test: 97.3  | loss: 0.03984408994205296\n",
      "600 , train: 99.97  | test: 98.5  | loss: 0.035932800760492684\n",
      "800 , train: 99.955  | test: 98.3  | loss: 0.03781638294458389\n",
      "1000 , train: 99.925  | test: 97.4  | loss: 0.039062681524083015\n",
      "1200 , train: 99.95  | test: 97.9  | loss: 0.035943227903917435\n",
      "1400 , train: 99.915  | test: 97.8  | loss: 0.03785370936617255\n",
      "1600 , train: 99.89  | test: 97.8  | loss: 0.041902293432503936\n",
      "1800 , train: 99.94  | test: 96.7  | loss: 0.03805755227804184\n",
      "2000 , train: 99.87  | test: 97.9  | loss: 0.041918480517342684\n",
      "2200 , train: 99.86  | test: 97.8  | loss: 0.04234246745705605\n",
      "2400 , train: 99.96  | test: 97.8  | loss: 0.0351491105183959\n",
      "2600 , train: 99.95  | test: 97.7  | loss: 0.035232001347467304\n",
      "2800 , train: 99.895  | test: 96.8  | loss: 0.04094232883304358\n",
      "3000 , train: 99.945  | test: 98.2  | loss: 0.03519472106359899\n",
      "3200 , train: 99.95  | test: 98.4  | loss: 0.036747355656698344\n",
      "3400 , train: 99.95  | test: 97.5  | loss: 0.03928565296344459\n",
      "3600 , train: 99.97  | test: 97.6  | loss: 0.03431803086772561\n",
      "3800 , train: 99.93  | test: 98.2  | loss: 0.037073791325092316\n",
      "4000 , train: 99.82  | test: 97.2  | loss: 0.04613217188045383\n",
      "4200 , train: 99.945  | test: 98.4  | loss: 0.0368691299110651\n",
      "4400 , train: 99.94  | test: 96.6  | loss: 0.03743947417475283\n",
      "4600 , train: 99.96  | test: 98.1  | loss: 0.035530858254060146\n",
      "4800 , train: 99.965  | test: 98.1  | loss: 0.037204461842775344\n",
      "5000 , train: 99.925  | test: 98.1  | loss: 0.036655435794964435\n",
      "5200 , train: 99.905  | test: 97.7  | loss: 0.040083294156938794\n",
      "5400 , train: 99.935  | test: 98.4  | loss: 0.03526647328399122\n",
      "5600 , train: 99.92  | test: 98.2  | loss: 0.04017120149917901\n",
      "5800 , train: 99.855  | test: 98.2  | loss: 0.044191150860860944\n",
      "6000 , train: 99.885  | test: 98.1  | loss: 0.039678582707419995\n",
      "6200 , train: 99.97  | test: 98.0  | loss: 0.03439346117898822\n",
      "6400 , train: 99.945  | test: 97.2  | loss: 0.036655904529616236\n",
      "6600 , train: 99.96  | test: 97.6  | loss: 0.033617454282939434\n",
      "6800 , train: 99.995  | test: 98.0  | loss: 0.03352392866276205\n",
      "7000 , train: 99.925  | test: 97.6  | loss: 0.03859066495671868\n",
      "7200 , train: 99.98  | test: 97.7  | loss: 0.03440161083824932\n",
      "7400 , train: 99.93  | test: 98.0  | loss: 0.038407301399856805\n",
      "7600 , train: 99.97  | test: 98.4  | loss: 0.03680417750030756\n",
      "7800 , train: 99.91  | test: 97.8  | loss: 0.040731639321893456\n",
      "8000 , train: 99.9  | test: 97.8  | loss: 0.040124939791858195\n",
      "8200 , train: 99.835  | test: 98.2  | loss: 0.04405340268276632\n",
      "8400 , train: 99.945  | test: 98.0  | loss: 0.03702004435472191\n",
      "8600 , train: 99.94  | test: 97.8  | loss: 0.03805548463948071\n",
      "8800 , train: 99.94  | test: 97.0  | loss: 0.03693848975934088\n",
      "9000 , train: 99.95  | test: 97.2  | loss: 0.036575938491150733\n",
      "9200 , train: 99.945  | test: 97.5  | loss: 0.03789930830709636\n",
      "9400 , train: 99.945  | test: 97.6  | loss: 0.03599505290389061\n",
      "9600 , train: 99.99  | test: 98.6  | loss: 0.030917607741430403\n",
      "9800 , train: 99.99  | test: 98.6  | loss: 0.031041422924026847\n",
      "Epoch Time: 1m 21s\n"
     ]
    }
   ],
   "source": [
    "num_steps = 10000\n",
    "summary_freq = 200\n",
    "n_test_log = 10\n",
    "\n",
    "def train_step(labels, inputs):\n",
    "    '''run a single step of gradient descent'''\n",
    "    with tf.GradientTape() as tape:\n",
    "        logits = model(inputs, logits=True)\n",
    "        loss = loss_fn(logits, labels, weights)\n",
    "    gradients = tape.gradient(loss, model.trainable_variables())\n",
    "    optimizer.apply_gradients(zip(gradients, model.trainable_variables()))\n",
    "    \n",
    "    return loss.numpy(), model(inputs).numpy()\n",
    "\n",
    "\n",
    "import time\n",
    "\n",
    "def epoch_time(start_time, end_time):\n",
    "    elapsed_time = end_time - start_time\n",
    "    elapsed_mins = int(elapsed_time / 60)\n",
    "    elapsed_secs = int(elapsed_time - (elapsed_mins * 60))\n",
    "    return elapsed_mins, elapsed_secs\n",
    "\n",
    "n_epoch = []\n",
    "n_train_accuracy = []\n",
    "n_test_accuracy = []\n",
    "\n",
    "\n",
    "mean_loss= 0\n",
    "train_accuracy= 0\n",
    "start_time = time.time()\n",
    "for step in range(num_steps):\n",
    "    batch_X, batch_y= mnist.train.next_batch(batch_size)    \n",
    "    l, train_pred = train_step(batch_y, batch_X)\n",
    "    train_accuracy += accuracy_train(train_pred, batch_y)\n",
    "    mean_loss += l\n",
    "    if step%summary_freq == 0:\n",
    "        train_accuracy= train_accuracy/summary_freq\n",
    "        test_accuracy= 0\n",
    "        for i in range(n_test_log):\n",
    "            batch_X_test, batch_y_test= mnist.test.next_batch(batch_size) \n",
    "            pred = model(batch_X_test)\n",
    "            test_accuracy += accuracy_test(pred, batch_y_test)\n",
    "        test_accuracy= test_accuracy/n_test_log\n",
    "        \n",
    "        n_epoch.append(step)\n",
    "        n_train_accuracy.append(train_accuracy)\n",
    "        n_test_accuracy.append(test_accuracy)\n",
    "\n",
    "        print(step, ', train:',train_accuracy,' | test:', test_accuracy, ' | loss:', mean_loss/summary_freq)\n",
    "        mean_loss= 0\n",
    "        train_accuracy= 0\n",
    "        \n",
    "end_time = time.time()\n",
    "epoch_mins, epoch_secs = epoch_time(start_time, end_time)\n",
    "print(f'Epoch Time: {epoch_mins}m {epoch_secs}s')\n"
   ]
  },
  {
   "cell_type": "markdown",
   "metadata": {},
   "source": [
    "## Test the model using testing dataset"
   ]
  },
  {
   "cell_type": "code",
   "execution_count": 8,
   "metadata": {},
   "outputs": [
    {
     "name": "stdout",
     "output_type": "stream",
     "text": [
      "Actual number: 5\n",
      "Prediction by the model: 5\n"
     ]
    },
    {
     "data": {
      "text/plain": [
       "<matplotlib.image.AxesImage at 0x7faad5b4b460>"
      ]
     },
     "execution_count": 8,
     "metadata": {},
     "output_type": "execute_result"
    },
    {
     "data": {
      "image/png": "[encoded data removed]",
      "text/plain": [
       "<Figure size 432x288 with 1 Axes>"
      ]
     },
     "metadata": {
      "needs_background": "light"
     },
     "output_type": "display_data"
    }
   ],
   "source": [
    "test_sample_x, test_sample_y= mnist.test.next_batch(1) \n",
    "\n",
    "pred = model(test_sample_x)\n",
    "\n",
    "print('Actual number:', np.argmax(test_sample_y))\n",
    "print('Prediction by the model:', np.argmax(pred))\n",
    "\n",
    "plt.imshow(np.reshape(test_sample_x, [28,28]))"
   ]
  },
  {
   "cell_type": "code",
   "execution_count": 9,
   "metadata": {},
   "outputs": [
    {
     "data": {
      "text/plain": [
       "<matplotlib.legend.Legend at 0x7faad5a18a60>"
      ]
     },
     "execution_count": 9,
     "metadata": {},
     "output_type": "execute_result"
    },
    {
     "data": {
      "image/png": "[encoded data removed]",
      "text/plain": [
       "<Figure size 432x288 with 1 Axes>"
      ]
     },
     "metadata": {
      "needs_background": "light"
     },
     "output_type": "display_data"
    }
   ],
   "source": [
    "plt.plot(n_epoch, n_train_accuracy, label=\"Training Accuracy\")\n",
    "plt.plot(n_epoch, n_test_accuracy, label=\"Testing Accuracy\")\n",
    "plt.legend()\n"
   ]
  },
  {
   "cell_type": "code",
   "execution_count": null,
   "metadata": {},
   "outputs": [],
   "source": []
  }
 ],
 "metadata": {
  "kernelspec": {
   "display_name": "Python 3",
   "language": "python",
   "name": "python3"
  },
  "language_info": {
   "codemirror_mode": {
    "name": "ipython",
    "version": 3
   },
   "file_extension": ".py",
   "mimetype": "text/x-python",
   "name": "python",
   "nbconvert_exporter": "python",
   "pygments_lexer": "ipython3",
   "version": "3.8.5"
  },
  "toc": {
   "colors": {
    "hover_highlight": "#DAA520",
    "navigate_num": "#000000",
    "navigate_text": "#333333",
    "running_highlight": "#FF0000",
    "selected_highlight": "#FFD700",
    "sidebar_border": "#EEEEEE",
    "wrapper_background": "#FFFFFF"
   },
   "moveMenuLeft": true,
   "nav_menu": {
    "height": "102px",
    "width": "252px"
   },
   "navigate_menu": true,
   "number_sections": true,
   "sideBar": true,
   "threshold": 4,
   "toc_cell": false,
   "toc_section_display": "block",
   "toc_window_display": false,
   "widenNotebook": false
  }
 },
 "nbformat": 4,
 "nbformat_minor": 2
}
